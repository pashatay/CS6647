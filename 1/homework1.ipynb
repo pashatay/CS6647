{
 "cells": [
  {
   "cell_type": "code",
   "execution_count": 2,
   "metadata": {},
   "outputs": [
    {
     "name": "stdout",
     "output_type": "stream",
     "text": [
      "[-4, 2]\n"
     ]
    }
   ],
   "source": [
    "# Question 1\n",
    "from sympy import symbols, Eq, solve\n",
    "\n",
    "# Define the symbol\n",
    "x = symbols('x')\n",
    "\n",
    "# Define the equation\n",
    "eq = Eq(x**2 + 2*x - 8, 0)\n",
    "\n",
    "# Solve the equation\n",
    "sol = solve(eq, x)\n",
    "\n",
    "print(sol)\n"
   ]
  },
  {
   "cell_type": "code",
   "execution_count": 3,
   "metadata": {},
   "outputs": [
    {
     "name": "stdout",
     "output_type": "stream",
     "text": [
      "True\n"
     ]
    }
   ],
   "source": [
    "# Question 2\n",
    "from sympy import symbols, Eq, solve, diff, exp\n",
    "\n",
    "# Define the symbol\n",
    "x = symbols('x')\n",
    "\n",
    "# Define the function\n",
    "f = exp(x)\n",
    "\n",
    "# Take the derivative of the function\n",
    "f_prime = diff(f, x)\n",
    "\n",
    "# Check if the function is equal to its derivative\n",
    "eq = Eq(f, f_prime)\n",
    "\n",
    "# Print the result\n",
    "print(eq)\n"
   ]
  },
  {
   "cell_type": "code",
   "execution_count": 5,
   "metadata": {},
   "outputs": [
    {
     "name": "stdout",
     "output_type": "stream",
     "text": [
      "1/4\n"
     ]
    }
   ],
   "source": [
    "# Question 3\n",
    "from sympy import symbols, integrate\n",
    "\n",
    "# Define the symbol\n",
    "x = symbols('x')\n",
    "\n",
    "# Define the function\n",
    "f = x**3\n",
    "\n",
    "# Compute the definite integral from 0 to 1\n",
    "area = integrate(f, (x, 0, 1))\n",
    "\n",
    "print(area)\n"
   ]
  },
  {
   "cell_type": "code",
   "execution_count": 6,
   "metadata": {},
   "outputs": [
    {
     "name": "stdout",
     "output_type": "stream",
     "text": [
      "E\n"
     ]
    }
   ],
   "source": [
    "# Question 4\n",
    "from sympy import Sum, factorial, S, symbols, oo\n",
    "\n",
    "# Define the symbol\n",
    "x = symbols('x')\n",
    "\n",
    "# Define the infinite series\n",
    "series = Sum(1/factorial(x), (x, 0, oo))\n",
    "\n",
    "# Calculate the sum\n",
    "result = series.doit()\n",
    "\n",
    "print(result)\n"
   ]
  },
  {
   "cell_type": "code",
   "execution_count": 7,
   "metadata": {},
   "outputs": [
    {
     "name": "stdout",
     "output_type": "stream",
     "text": [
      "E\n"
     ]
    }
   ],
   "source": [
    "#Question 5\n",
    "from sympy import symbols, limit, oo\n",
    "\n",
    "# Define the symbol\n",
    "n = symbols('n')\n",
    "\n",
    "# Define the expression\n",
    "expr = (1 + 1/n)**n\n",
    "\n",
    "# Calculate the limit as n approaches infinity\n",
    "lim = limit(expr, n, oo)\n",
    "\n",
    "print(lim)\n"
   ]
  },
  {
   "cell_type": "code",
   "execution_count": 8,
   "metadata": {},
   "outputs": [
    {
     "name": "stdout",
     "output_type": "stream",
     "text": [
      "Matrix([[2, -2, 1], [-3, -1, 0], [-8, 2, -3], [7, -7, 6]])\n"
     ]
    }
   ],
   "source": [
    "#Question 6\n",
    "from sympy import Matrix\n",
    "\n",
    "# Define the matrix\n",
    "matrix = Matrix([[2, -3, -8, 7], [-2, -1, 2, -7], [1, 0, -3, 6]])\n",
    "\n",
    "# Transpose the matrix\n",
    "transposed_matrix = matrix.transpose()\n",
    "\n",
    "print(transposed_matrix)\n"
   ]
  },
  {
   "cell_type": "code",
   "execution_count": 12,
   "metadata": {},
   "outputs": [
    {
     "name": "stdout",
     "output_type": "stream",
     "text": [
      "Matrix([[1, 0, 0], [3, 1, 0], [0, 0, 1]])\n"
     ]
    }
   ],
   "source": [
    "# Question 7\n",
    "from sympy import *\n",
    "\n",
    "# Initialize 3x3 identity matrix\n",
    "M = eye(3)\n",
    "\n",
    "# Update the second row (R2) to R2 + 3*R1\n",
    "M[1,:] = M[1,:] + 3*M[0,:]\n",
    "\n",
    "# Print the updated matrix\n",
    "print(M)\n"
   ]
  },
  {
   "cell_type": "code",
   "execution_count": 13,
   "metadata": {},
   "outputs": [
    {
     "name": "stdout",
     "output_type": "stream",
     "text": [
      "1\n"
     ]
    }
   ],
   "source": [
    "#Question 8\n",
    "# Calculate determinant of M\n",
    "det_M = M.det()\n",
    "\n",
    "# Print determinant\n",
    "print(det_M)\n"
   ]
  },
  {
   "cell_type": "code",
   "execution_count": 9,
   "metadata": {},
   "outputs": [
    {
     "name": "stdout",
     "output_type": "stream",
     "text": [
      "Eigenvalues:  {10: 1, 5: 1}\n",
      "Eigenvectors:  [(5, 1, [Matrix([\n",
      "[1/2],\n",
      "[  1]])]), (10, 1, [Matrix([\n",
      "[-2],\n",
      "[ 1]])])]\n"
     ]
    }
   ],
   "source": [
    "#Question 9\n",
    "from sympy import Matrix\n",
    "\n",
    "# Define the matrix\n",
    "M = Matrix([[9, -2], [-2, 6]])\n",
    "\n",
    "# Find the eigenvalues\n",
    "eigenvals = M.eigenvals()\n",
    "\n",
    "# Find the eigenvectors\n",
    "eigenvects = M.eigenvects()\n",
    "\n",
    "print(\"Eigenvalues: \", eigenvals)\n",
    "print(\"Eigenvectors: \", eigenvects)\n"
   ]
  },
  {
   "cell_type": "code",
   "execution_count": 11,
   "metadata": {},
   "outputs": [
    {
     "name": "stdout",
     "output_type": "stream",
     "text": [
      "Eq(Derivative(Fish(t), t), -0.4*Bear(t)*Fish(t) + 1.1*Fish(t))\n",
      "Eq(Derivative(Bear(t), t), 0.1*Bear(t)*Fish(t) - 0.4*Bear(t))\n"
     ]
    }
   ],
   "source": [
    "#Question 10\n",
    "from sympy import symbols, Function, Eq\n",
    "\n",
    "# Define the symbols\n",
    "t = symbols('t')\n",
    "alpha = 1.1\n",
    "beta = 0.4\n",
    "delta = 0.1\n",
    "gamma = 0.4\n",
    "\n",
    "# Define the functions\n",
    "Fish = Function('Fish')(t)\n",
    "Bear = Function('Bear')(t)\n",
    "\n",
    "# Define the equations\n",
    "eq1 = Eq(Fish.diff(t), alpha*Fish - beta*Fish*Bear)\n",
    "eq2 = Eq(Bear.diff(t), delta*Fish*Bear - gamma*Bear)\n",
    "\n",
    "print(eq1)\n",
    "print(eq2)\n",
    "\n",
    "# This script will print the differential equations \n",
    "# for the predator-prey model. However, to find \n",
    "# the numerical solutions and plot them over time, \n",
    "# it's more efficient to use SciPy and \n",
    "# its odeint function."
   ]
  }
 ],
 "metadata": {
  "kernelspec": {
   "display_name": "Python 3",
   "language": "python",
   "name": "python3"
  },
  "language_info": {
   "codemirror_mode": {
    "name": "ipython",
    "version": 3
   },
   "file_extension": ".py",
   "mimetype": "text/x-python",
   "name": "python",
   "nbconvert_exporter": "python",
   "pygments_lexer": "ipython3",
   "version": "3.9.6"
  },
  "orig_nbformat": 4
 },
 "nbformat": 4,
 "nbformat_minor": 2
}

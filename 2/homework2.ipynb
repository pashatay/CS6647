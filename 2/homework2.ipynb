{
 "cells": [
  {
   "cell_type": "code",
   "execution_count": 5,
   "metadata": {},
   "outputs": [
    {
     "name": "stdout",
     "output_type": "stream",
     "text": [
      "Generating 3 random integer numbers between 100 and 999 divisible by 5 - 545, 700, 775\n"
     ]
    }
   ],
   "source": [
    "# Q1\n",
    "import random\n",
    "\n",
    "# Initialize an empty array to store the numbers\n",
    "numbers = []\n",
    "\n",
    "# Generate 3 random integers\n",
    "for i in range(3):\n",
    "    # The randrange function generates a random number between 100 and 999 which is divisible by 5\n",
    "    num = random.randrange(100, 1000, 5)\n",
    "    numbers.append(str(num))  # Convert the number to a string and append it to the list\n",
    "    message = \"Generating 3 random integer numbers between 100 and 999 divisible by 5 - \"\n",
    "# Join the numbers with commas and print the message\n",
    "print(message + \", \".join(numbers))"
   ]
  },
  {
   "cell_type": "code",
   "execution_count": 18,
   "metadata": {},
   "outputs": [
    {
     "data": {
      "image/png": "[encoded data removed]",
      "text/plain": [
       "<Figure size 640x480 with 1 Axes>"
      ]
     },
     "metadata": {},
     "output_type": "display_data"
    }
   ],
   "source": [
    "# Q2\n",
    "import numpy as np\n",
    "import matplotlib.pyplot as plt\n",
    "\n",
    "# Parameters for the logistic distribution\n",
    "loc, scale, size = 10, 1, 1000\n",
    "\n",
    "# Draw samples from the distribution\n",
    "samples = np.random.logistic(loc, scale, size)\n",
    "\n",
    "# Create histogram\n",
    "# using troy uni color ^^\n",
    "plt.hist(samples, bins=50, density=True, alpha=0.7, color='r')\n",
    "\n",
    "# Add title and labels\n",
    "plt.title('Histogram of Logistic Distribution')\n",
    "plt.xlabel('Value')\n",
    "plt.ylabel('Frequency')\n",
    "\n",
    "# Show plot\n",
    "plt.show()\n"
   ]
  },
  {
   "cell_type": "code",
   "execution_count": null,
   "metadata": {},
   "outputs": [
    {
     "ename": "",
     "evalue": "",
     "output_type": "error",
     "traceback": [
      "\u001b[1;31mFailed to start the Kernel. \n",
      "\u001b[1;31mKernel Python 3.9.6 is not usable. Check the Jupyter output tab for more information. \n",
      "\u001b[1;31mView Jupyter <a href='command:jupyter.viewOutput'>log</a> for further details."
     ]
    }
   ],
   "source": [
    "# Q3\n",
    "import secrets\n",
    "\n",
    "# Generate a 6 digit random One Time Password\n",
    "otp = secrets.randbelow(1000000)\n",
    "\n",
    "# Format the OTP to have 6 digits (prepend 0's if necessary)\n",
    "formatted_otp = f\"{otp:06d}\"\n",
    "\n",
    "print(\"Generating 6 digit random OTP\")\n",
    "print(\"Secure random OTP is\", formatted_otp)\n"
   ]
  },
  {
   "cell_type": "code",
   "execution_count": null,
   "metadata": {},
   "outputs": [
    {
     "ename": "",
     "evalue": "",
     "output_type": "error",
     "traceback": [
      "\u001b[1;31mFailed to start the Kernel. \n",
      "\u001b[1;31mKernel Python 3.9.6 is not usable. Check the Jupyter output tab for more information. \n",
      "\u001b[1;31mView Jupyter <a href='command:jupyter.viewOutput'>log</a> for further details."
     ]
    }
   ],
   "source": [
    "# Q4\n",
    "import random\n",
    "\n",
    "#giving string\n",
    "given_string = \"Simulation and modeling\"\n",
    "\n",
    "# pick a random char\n",
    "char = random.choice(given_string)\n",
    "\n",
    "print(f\"random char is {char}\")"
   ]
  },
  {
   "cell_type": "code",
   "execution_count": 46,
   "metadata": {},
   "outputs": [
    {
     "name": "stdout",
     "output_type": "stream",
     "text": [
      "Random string is KAOEK\n"
     ]
    }
   ],
   "source": [
    "# Q5\n",
    "import string\n",
    "import random \n",
    "\n",
    "# generate random upper case chars\n",
    "random_uppercase_chars = random.choices(string.ascii_uppercase, k=5)\n",
    "\n",
    "# turn the chars from the array into a string\n",
    "random_str = ''.join(random_uppercase_chars)\n",
    "\n",
    "# create an output message\n",
    "message = f\"Random string is {random_str}\"\n",
    "\n",
    "print(message)"
   ]
  },
  {
   "cell_type": "code",
   "execution_count": 47,
   "metadata": {},
   "outputs": [
    {
     "name": "stdout",
     "output_type": "stream",
     "text": [
      "Password is )]1`V4iWNT\n"
     ]
    }
   ],
   "source": [
    "# Q6\n",
    "import string\n",
    "import random \n",
    "\n",
    "# Generate each type of character\n",
    "upper = ''.join(random.choices(string.ascii_uppercase, k=2))\n",
    "digit = ''.join(random.choices(string.digits, k=1))\n",
    "symbol = ''.join(random.choices(string.punctuation, k=1))\n",
    "\n",
    "# Remaining characters can be anything\n",
    "remaining = ''.join(random.choices(string.ascii_letters + string.digits + string.punctuation, k=6))\n",
    "\n",
    "# Combine the parts\n",
    "password = upper + digit + symbol + remaining\n",
    "\n",
    "# Shuffle the combined string to ensure randomness\n",
    "password = ''.join(random.sample(password, len(password)))\n",
    "\n",
    "print(f\"Password is {password}\")\n"
   ]
  },
  {
   "cell_type": "code",
   "execution_count": 53,
   "metadata": {},
   "outputs": [
    {
     "name": "stdout",
     "output_type": "stream",
     "text": [
      "[[3 4 5]\n",
      " [0 1 2]\n",
      " [6 7 8]]\n"
     ]
    }
   ],
   "source": [
    "# Q7\n",
    "\n",
    "import numpy as np\n",
    "\n",
    "# Generate evenly spaced values from 0 to 8\n",
    "values = np.linspace(0, 8, num=9, dtype=int)\n",
    "\n",
    "# Reshape to a 3x3 array and convert to integers\n",
    "matrix = values.reshape(3, 3).astype(int)\n",
    "\n",
    "# Randomly permute the rows\n",
    "permuted_matrix = np.random.permutation(matrix)\n",
    "\n",
    "print(permuted_matrix)\n",
    "\n"
   ]
  },
  {
   "cell_type": "code",
   "execution_count": 54,
   "metadata": {},
   "outputs": [
    {
     "name": "stdout",
     "output_type": "stream",
     "text": [
      "Random secure Hexadecimal token is 5f32c466a2e31eecf7658c7d7a81082ef3de46a40d68aa875a6f037116dcca02bc96f532cd2504c96b3cbac3c0aecfbc6f3e275f04f3d5769ebbd8e4520d241a\n",
      "Random secure URL is HjAxV4IFhJLJn295OVEIrg5bo9e3NM-Db-BeYcZ0hY_UtaixPZ8evmpeEboSAenn3IA-2AyUf7HjnxvX8hSvWQ\n"
     ]
    }
   ],
   "source": [
    "# Q8\n",
    "\n",
    "import secrets\n",
    "\n",
    "# Generate a random secure token of 64 bytes and convert to hexadecimal\n",
    "token_hex = secrets.token_hex(64)\n",
    "\n",
    "# Generate a random secure URL-safe text string\n",
    "token_urlsafe = secrets.token_urlsafe(64)\n",
    "\n",
    "print(f\"Random secure Hexadecimal token is {token_hex}\")\n",
    "print(f\"Random secure URL is {token_urlsafe}\")\n"
   ]
  },
  {
   "cell_type": "code",
   "execution_count": 70,
   "metadata": {},
   "outputs": [
    {
     "name": "stdout",
     "output_type": "stream",
     "text": [
      "Randomly selecting same number of a dice\n",
      "2\n",
      "2\n",
      "2\n",
      "2\n",
      "2\n"
     ]
    }
   ],
   "source": [
    "# Q9\n",
    "\n",
    "import random\n",
    "\n",
    "# Set a specific seed\n",
    "random.seed(1)\n",
    "\n",
    "print(\"Randomly selecting same number of a dice\")\n",
    "# Pick a random number from 1 to 6\n",
    "num = random.randint(1, 6)\n",
    "\n",
    "for _ in range(5):\n",
    "    print(num)\n",
    "\n"
   ]
  },
  {
   "cell_type": "code",
   "execution_count": 2,
   "metadata": {},
   "outputs": [
    {
     "name": "stdout",
     "output_type": "stream",
     "text": [
      "Hi! What is your name?\n",
      "Welcome, Pasha! I am thinking of a number between 1 and 20.\n",
      "Take a guess and type the integer?\n",
      "Your guess is too high.\n",
      "Take a guess and type the integer?\n",
      "Your guess is too high.\n",
      "Take a guess and type the integer?\n",
      "Your guess is too high.\n",
      "Take a guess and type the integer?\n",
      "Well done, Pasha! You guessed my number in 4 guesses!\n"
     ]
    }
   ],
   "source": [
    "# Q10\n",
    "\n",
    "import random\n",
    "\n",
    "def guess_the_number():\n",
    "    print(\"Hi! What is your name?\")\n",
    "    name = input()\n",
    "\n",
    "    print(f\"Welcome, {name}! I am thinking of a number between 1 and 20.\")\n",
    "\n",
    "    # The computer thinks of a random number between 1 and 20\n",
    "    number_to_guess = random.randint(1, 20)\n",
    "\n",
    "    # The user has 6 attempts to guess the number\n",
    "    for i in range(1, 7):\n",
    "        print(\"Take a guess and type the integer?\")\n",
    "        guess = int(input())\n",
    "\n",
    "        if guess < number_to_guess:\n",
    "            print(\"Your guess is too low.\")\n",
    "        elif guess > number_to_guess:\n",
    "            print(\"Your guess is too high.\")\n",
    "        else:\n",
    "            # The user has guessed correctly, so break out of the loop\n",
    "            break\n",
    "\n",
    "    if guess == number_to_guess:\n",
    "        print(f\"Well done, {name}! You guessed my number in {i} guesses!\")\n",
    "    else:\n",
    "        print(f\"Sorry, {name}. The number I was thinking of was {number_to_guess}.\")\n",
    "\n",
    "guess_the_number()\n"
   ]
  },
  {
   "cell_type": "code",
   "execution_count": null,
   "metadata": {},
   "outputs": [],
   "source": []
  }
 ],
 "metadata": {
  "kernelspec": {
   "display_name": "Python 3",
   "language": "python",
   "name": "python3"
  },
  "language_info": {
   "codemirror_mode": {
    "name": "ipython",
    "version": 3
   },
   "file_extension": ".py",
   "mimetype": "text/x-python",
   "name": "python",
   "nbconvert_exporter": "python",
   "pygments_lexer": "ipython3",
   "version": "3.9.6"
  },
  "orig_nbformat": 4
 },
 "nbformat": 4,
 "nbformat_minor": 2
}

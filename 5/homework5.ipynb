{
 "cells": [
  {
   "cell_type": "code",
   "execution_count": 1,
   "metadata": {},
   "outputs": [
    {
     "name": "stdout",
     "output_type": "stream",
     "text": [
      "Probability distribution on the 15th day: [0.13761468 0.62385321 0.23853211]\n",
      "Probability distribution on the 10000th day: [0.13761468 0.62385321 0.23853211]\n"
     ]
    }
   ],
   "source": [
    "import numpy as np\n",
    "\n",
    "# Transition matrix\n",
    "P = np.array([\n",
    "    [0.2, 0.6, 0.2],  # From Rest to (Rest, Exercise, Sweeties)\n",
    "    [0.1, 0.6, 0.3],  # From Exercise to (Rest, Exercise, Sweeties)\n",
    "    [0.2, 0.7, 0.1]   # From Sweeties to (Rest, Exercise, Sweeties)\n",
    "])\n",
    "\n",
    "# Initial state distribution vector (Rest, Exercise, Sweeties)\n",
    "initial_state = np.array([1, 0, 0])\n",
    "\n",
    "# Function to calculate state distribution vector after n days\n",
    "def calculate_state_distribution(initial_state, transition_matrix, days):\n",
    "    state_distribution = initial_state\n",
    "    for i in range(days - 1):\n",
    "        state_distribution = np.dot(state_distribution, transition_matrix)\n",
    "    return state_distribution\n",
    "\n",
    "# Calculate probability distribution on the 15th day\n",
    "day_15_distribution = calculate_state_distribution(initial_state, P, 15)\n",
    "print(f\"Probability distribution on the 15th day: {day_15_distribution}\")\n",
    "\n",
    "# Calculate probability distribution on the 10000th day\n",
    "day_10000_distribution = calculate_state_distribution(initial_state, P, 10000)\n",
    "print(f\"Probability distribution on the 10000th day: {day_10000_distribution}\")\n",
    "\n",
    "# After running this code, I observed that as the number of days increases, \n",
    "# the probability distribution converges to a steady state. \n",
    "# This steady state doesn't depend on the initial state and \n",
    "# it represents the long-term behavior of the Markov Chain."
   ]
  }
 ],
 "metadata": {
  "kernelspec": {
   "display_name": "Python 3",
   "language": "python",
   "name": "python3"
  },
  "language_info": {
   "codemirror_mode": {
    "name": "ipython",
    "version": 3
   },
   "file_extension": ".py",
   "mimetype": "text/x-python",
   "name": "python",
   "nbconvert_exporter": "python",
   "pygments_lexer": "ipython3",
   "version": "3.9.6"
  },
  "orig_nbformat": 4
 },
 "nbformat": 4,
 "nbformat_minor": 2
}

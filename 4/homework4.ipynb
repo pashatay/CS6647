{
 "cells": [
  {
   "cell_type": "code",
   "execution_count": 4,
   "metadata": {},
   "outputs": [
    {
     "name": "stdout",
     "output_type": "stream",
     "text": [
      "Probability of winning if you stick: 0.33\n",
      "Probability of winning if you switch: 0.67\n"
     ]
    },
    {
     "data": {
      "image/png": "[encoded data removed]",
      "text/plain": [
       "<Figure size 640x480 with 1 Axes>"
      ]
     },
     "metadata": {},
     "output_type": "display_data"
    }
   ],
   "source": [
    "import random\n",
    "import matplotlib.pyplot as plt\n",
    "\n",
    "# Number of simulations\n",
    "n_simulations = 10000\n",
    "\n",
    "# Counters for the number of wins if you stick or switch\n",
    "wins_stick = 0\n",
    "wins_switch = 0\n",
    "\n",
    "# Monte Carlo Simulation\n",
    "for _ in range(n_simulations):\n",
    "    # Initialize the boxes\n",
    "    boxes = [10, 10, 100]\n",
    "    random.shuffle(boxes)\n",
    "\n",
    "    # You pick a box\n",
    "    chosen_box = random.randint(0, 2)\n",
    "\n",
    "    # Your friend opens a box containing $10\n",
    "    # He knows where the $100 is and always chooses a box with $10\n",
    "    available_boxes = [0, 1, 2]\n",
    "    available_boxes.remove(chosen_box)\n",
    "    for box in available_boxes:\n",
    "        if boxes[box] == 10:\n",
    "            available_boxes.remove(box)\n",
    "            break\n",
    "\n",
    "    # Check if you would win if you stick with your initial choice\n",
    "    if boxes[chosen_box] == 100:\n",
    "        wins_stick += 1\n",
    "\n",
    "    # Check if you would win if you switch\n",
    "    switched_box = available_boxes[0]\n",
    "    if boxes[switched_box] == 100:\n",
    "        wins_switch += 1\n",
    "\n",
    "# Calculate probabilities\n",
    "prob_stick = wins_stick / n_simulations\n",
    "prob_switch = wins_switch / n_simulations\n",
    "\n",
    "# Display results\n",
    "print(f\"Probability of winning if you stick: {prob_stick:.2f}\")\n",
    "print(f\"Probability of winning if you switch: {prob_switch:.2f}\")\n",
    "\n",
    "# Plot results\n",
    "labels = ['Stick', 'Switch']\n",
    "values = [prob_stick, prob_switch]\n",
    "plt.bar(labels, values)\n",
    "plt.ylabel('Probability of Winning')\n",
    "plt.title('Monty Hall Problem: Stick vs. Switch')\n",
    "plt.show()"
   ]
  },
  {
   "cell_type": "code",
   "execution_count": 5,
   "metadata": {},
   "outputs": [
    {
     "name": "stdout",
     "output_type": "stream",
     "text": [
      "Estimated value of the integral: 0.020051270547071325\n"
     ]
    }
   ],
   "source": [
    "import random\n",
    "import numpy as np\n",
    "\n",
    "# Define the function\n",
    "def f(x):\n",
    "    return x * np.cos(71 * x) + np.sin(13 * x)\n",
    "\n",
    "# Number of random samples\n",
    "n_samples = 1000000\n",
    "\n",
    "# Range of integration\n",
    "a = 0\n",
    "b = 1\n",
    "\n",
    "# Sum of the function values at random points\n",
    "sum_f = 0\n",
    "\n",
    "# Monte Carlo simulation\n",
    "for _ in range(n_samples):\n",
    "    # Generate a random x value between a and b\n",
    "    x = random.uniform(a, b)\n",
    "    # Add the function value at x to the sum\n",
    "    sum_f += f(x)\n",
    "\n",
    "# Estimate the integral\n",
    "integral_estimate = (b - a) * sum_f / n_samples\n",
    "\n",
    "# Display the result\n",
    "print(f\"Estimated value of the integral: {integral_estimate}\")"
   ]
  }
 ],
 "metadata": {
  "kernelspec": {
   "display_name": "Python 3",
   "language": "python",
   "name": "python3"
  },
  "language_info": {
   "codemirror_mode": {
    "name": "ipython",
    "version": 3
   },
   "file_extension": ".py",
   "mimetype": "text/x-python",
   "name": "python",
   "nbconvert_exporter": "python",
   "pygments_lexer": "ipython3",
   "version": "3.9.6"
  },
  "orig_nbformat": 4
 },
 "nbformat": 4,
 "nbformat_minor": 2
}

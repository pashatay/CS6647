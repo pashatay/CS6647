{
 "cells": [
  {
   "cell_type": "code",
   "execution_count": 1,
   "metadata": {},
   "outputs": [
    {
     "name": "stdout",
     "output_type": "stream",
     "text": [
      "Optimal L: 1.2909944553468402\n",
      "Optimal W: 1.2909944343064879\n",
      "Optimal H: 1.2909944565342486\n",
      "Maximal volume: 2.1516574145266087\n",
      "Surface area: 9.999999999897545\n"
     ]
    }
   ],
   "source": [
    "from scipy.optimize import minimize\n",
    "import numpy as np\n",
    "\n",
    "# Define the volume function, which we want to maximize\n",
    "def volume(x):\n",
    "    L, W, H = x\n",
    "    return -L * W * H  # negative volume, because we want to maximize the volume\n",
    "\n",
    "# Define the constraint for the surface area\n",
    "def surface_area(x):\n",
    "    L, W, H = x\n",
    "    return 2 * L * W + 2 * L * H + 2 * W * H  # the area of the box\n",
    "\n",
    "# Create the constraint dictionary\n",
    "con = {'type': 'ineq', 'fun': lambda x: 10 - surface_area(x)}\n",
    "\n",
    "# Initial guess for L, W, H\n",
    "x0 = np.array([1.0, 1.0, 1.0])\n",
    "\n",
    "# Call the optimizer\n",
    "res = minimize(volume, x0, constraints=con)\n",
    "\n",
    "# Extract L, W, H from the result\n",
    "L, W, H = res.x\n",
    "\n",
    "# Print the results\n",
    "print(f\"Optimal L: {L}\")\n",
    "print(f\"Optimal W: {W}\")\n",
    "print(f\"Optimal H: {H}\")\n",
    "print(f\"Maximal volume: {-res.fun}\")\n",
    "print(f\"Surface area: {surface_area(res.x)}\")"
   ]
  }
 ],
 "metadata": {
  "kernelspec": {
   "display_name": "Python 3",
   "language": "python",
   "name": "python3"
  },
  "language_info": {
   "codemirror_mode": {
    "name": "ipython",
    "version": 3
   },
   "file_extension": ".py",
   "mimetype": "text/x-python",
   "name": "python",
   "nbconvert_exporter": "python",
   "pygments_lexer": "ipython3",
   "version": "3.9.6"
  },
  "orig_nbformat": 4
 },
 "nbformat": 4,
 "nbformat_minor": 2
}
